{
 "cells": [
  {
   "cell_type": "markdown",
   "id": "d6d48a61-2d5a-455e-9525-7d51dec1d663",
   "metadata": {},
   "source": [
    "***Data Description***\n",
    "\n",
    "1. Sessions Dataset: The sessions dataset consists of 5 variables (coloumns) and 1,535 rows. The variables names are hashedemail, start_time, end_time, original_end_time, original_start_time. The original_end_time and original_start_time appear to be in Unix format which is in seconds and began in January 1, 1970.\n",
    "\n",
    "2. Players Dataset: The players dataset consists of 7 variables and 196 rows. The variable names are experience, subscribe, hashedemail, played_hours, name, gender, and Age. There seems to be missing data in some rows (only saw 1 at the time of writing this part), Datasets will be tidy when used.\n",
    "\n",
    "hashedemail will obviously be the link to these 2 data sets and what data belongs to what person. We can also think about if age links to play time, experience links to time played on the server, and more. The subscribe variable in the players dataset is confusing to me and will probably be useless as I do not see a purpose for it and how it can help us model a trend. (Make sure to keep an eye on Age, experience, hashedemail, all the times, and played_hours)"
   ]
  },
  {
   "cell_type": "markdown",
   "id": "3f4f4449-961a-4669-ae57-fbe6142a3c95",
   "metadata": {},
   "source": [
    "***Questions***\n",
    "\n",
    "1. Can age predict the amount of time played in the given datasets?"
   ]
  },
  {
   "cell_type": "code",
   "execution_count": null,
   "id": "6cabfbb5-0666-4dff-92a3-d1dbd7429ded",
   "metadata": {},
   "outputs": [],
   "source": []
  }
 ],
 "metadata": {
  "kernelspec": {
   "display_name": "R",
   "language": "R",
   "name": "ir"
  },
  "language_info": {
   "codemirror_mode": "r",
   "file_extension": ".r",
   "mimetype": "text/x-r-source",
   "name": "R",
   "pygments_lexer": "r",
   "version": "4.3.3"
  }
 },
 "nbformat": 4,
 "nbformat_minor": 5
}
