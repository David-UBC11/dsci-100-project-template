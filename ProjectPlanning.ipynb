{
 "cells": [
  {
   "cell_type": "markdown",
   "id": "d6d48a61-2d5a-455e-9525-7d51dec1d663",
   "metadata": {},
   "source": [
    "***1 Data Description***\n",
    "\n",
    "The data s\n",
    "\n"
   ]
  },
  {
   "cell_type": "code",
   "execution_count": null,
   "id": "804c945f-a469-4b96-9648-7b63a97cdf4c",
   "metadata": {},
   "outputs": [],
   "source": []
  }
 ],
 "metadata": {
  "kernelspec": {
   "display_name": "R",
   "language": "R",
   "name": "ir"
  },
  "language_info": {
   "codemirror_mode": "r",
   "file_extension": ".r",
   "mimetype": "text/x-r-source",
   "name": "R",
   "pygments_lexer": "r",
   "version": "4.3.3"
  }
 },
 "nbformat": 4,
 "nbformat_minor": 5
}
